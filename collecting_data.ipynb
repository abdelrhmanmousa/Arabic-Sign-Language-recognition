{
 "cells": [
  {
   "cell_type": "markdown",
   "metadata": {},
   "source": [
    "# 1. Import and Install Dependencies"
   ]
  },
  {
   "cell_type": "code",
   "execution_count": 1,
   "metadata": {},
   "outputs": [
    {
     "name": "stdout",
     "output_type": "stream",
     "text": [
      "WARNING:tensorflow:From c:\\Users\\LEGION\\AppData\\Local\\Programs\\Python\\Python311\\Lib\\site-packages\\keras\\src\\losses.py:2976: The name tf.losses.sparse_softmax_cross_entropy is deprecated. Please use tf.compat.v1.losses.sparse_softmax_cross_entropy instead.\n",
      "\n"
     ]
    }
   ],
   "source": [
    "import cv2\n",
    "import numpy as np\n",
    "import os\n",
    "from matplotlib import pyplot as plt\n",
    "import time\n",
    "import mediapipe as mp"
   ]
  },
  {
   "cell_type": "code",
   "execution_count": 2,
   "metadata": {},
   "outputs": [],
   "source": [
    "mp_hands = mp.solutions.hands\n",
    "mp_drawing = mp.solutions.drawing_utils\n",
    "mp_drawing_styles = mp.solutions.drawing_styles\n",
    "\n",
    "hands = mp_hands.Hands(mp_hands.Hands(static_image_mode=True, min_detection_confidence=0.5,min_tracking_confidence=0.2, max_num_hands = 2))"
   ]
  },
  {
   "cell_type": "code",
   "execution_count": 3,
   "metadata": {},
   "outputs": [],
   "source": [
    "def mediapipe_detection(image, model):\n",
    "    image = cv2.cvtColor(image, cv2.COLOR_BGR2RGB) # COLOR CONVERSION BGR 2 RGB\n",
    "    image.flags.writeable = False                  # Image is no longer writeable\n",
    "    results = model.process(image)                 # Make prediction\n",
    "    image.flags.writeable = True                   # Image is now writeable \n",
    "    image = cv2.cvtColor(image, cv2.COLOR_RGB2BGR) # COLOR COVERSION RGB 2 BGR\n",
    "    return image, results"
   ]
  },
  {
   "cell_type": "code",
   "execution_count": 4,
   "metadata": {},
   "outputs": [],
   "source": [
    "def draw_styled_landmarks(image, results):\n",
    "    # Draw pose connections\n",
    "    if results.multi_hand_landmarks:\n",
    "        for hand_landmarks in results.multi_hand_landmarks:\n",
    "            mp_drawing.draw_landmarks(\n",
    "                image,  # image to draw\n",
    "                hand_landmarks,  # model output\n",
    "                mp_hands.HAND_CONNECTIONS,  # hand connections\n",
    "                mp_drawing_styles.get_default_hand_landmarks_style(),\n",
    "                mp_drawing_styles.get_default_hand_connections_style())"
   ]
  },
  {
   "cell_type": "markdown",
   "metadata": {},
   "source": [
    "# 3. Extract Keypoint Values"
   ]
  },
  {
   "cell_type": "code",
   "execution_count": 9,
   "metadata": {},
   "outputs": [],
   "source": [
    "def extract_keypoints(results):\n",
    "    data_aux = []\n",
    "\n",
    "    x_ = []\n",
    "    y_ = []\n",
    "\n",
    "    if results.multi_hand_landmarks:\n",
    "        cnt = 0\n",
    "        for hand_landmarks in results.multi_hand_landmarks:\n",
    "            cnt += 1\n",
    "            for i in range(len(hand_landmarks.landmark)):\n",
    "                x = hand_landmarks.landmark[i].x\n",
    "                y = hand_landmarks.landmark[i].y\n",
    "\n",
    "                x_.append(x)\n",
    "                y_.append(y)\n",
    "\n",
    "            for i in range(len(hand_landmarks.landmark)):\n",
    "                x = hand_landmarks.landmark[i].x\n",
    "                y = hand_landmarks.landmark[i].y\n",
    "                data_aux.append(x - min(x_))\n",
    "                data_aux.append(y - min(y_))\n",
    "                \n",
    "        if (cnt == 1):\n",
    "            for i in range(21, 42):\n",
    "                data_aux.append(0.0)\n",
    "                data_aux.append(0.0)   \n",
    "    else:\n",
    "        for i in range(84):\n",
    "            data_aux.append(0.0)                \n",
    "    return np.array(data_aux)                "
   ]
  },
  {
   "cell_type": "code",
   "execution_count": 13,
   "metadata": {},
   "outputs": [],
   "source": [
    "DATA_PATH = os.path.join('./10_day10_mousa/') \n",
    "DATA_PATH_IMAGES = os.path.join('./mousa_data_images/') \n",
    "\n",
    "#  'Violet', 'Grey', 'Pink', 'Blue'\n",
    "# Actions that we try to detect\n",
    "actions = np.array(['BB'])\n",
    "\n",
    "# Thirty videos worth of data\n",
    "no_sequences = 30\n",
    "\n",
    "# Videos are going to be 30 frames in length\n",
    "sequence_length = 30\n",
    "\n",
    "# Folder start\n",
    "start_folder = 31"
   ]
  },
  {
   "cell_type": "code",
   "execution_count": 14,
   "metadata": {},
   "outputs": [],
   "source": [
    "for action in actions: \n",
    "    for sequence in range(start_folder, start_folder + 30):\n",
    "        try: \n",
    "            os.makedirs(os.path.join(DATA_PATH, action, str(sequence)))\n",
    "            os.makedirs(os.path.join(DATA_PATH_IMAGES, action, str(sequence)))\n",
    "        except:\n",
    "            pass"
   ]
  },
  {
   "cell_type": "code",
   "execution_count": 15,
   "metadata": {},
   "outputs": [],
   "source": [
    "for action in actions: \n",
    "    for sequence in range(start_folder + 150, start_folder + 180):\n",
    "        try: \n",
    "            os.makedirs(os.path.join(DATA_PATH, action, str(sequence)))\n",
    "            os.makedirs(os.path.join(DATA_PATH_IMAGES, action, str(sequence)))\n",
    "        except:\n",
    "            pass"
   ]
  },
  {
   "cell_type": "code",
   "execution_count": 16,
   "metadata": {},
   "outputs": [
    {
     "name": "stdout",
     "output_type": "stream",
     "text": [
      "next word BB after 5 seconds...\n",
      "31\n",
      "32\n",
      "33\n",
      "34\n",
      "35\n",
      "36\n",
      "37\n",
      "38\n",
      "39\n",
      "40\n",
      "41\n",
      "42\n",
      "43\n",
      "44\n",
      "45\n",
      "46\n",
      "47\n",
      "48\n",
      "49\n",
      "50\n",
      "51\n",
      "52\n",
      "53\n",
      "54\n",
      "55\n",
      "56\n",
      "57\n",
      "58\n",
      "59\n",
      "60\n"
     ]
    }
   ],
   "source": [
    "# url = \"http://192.168.1.10:8080/video\"  # Example\n",
    "\n",
    "# cap = cv2.VideoCapture(url)\n",
    "\n",
    "cap = cv2.VideoCapture(0)\n",
    "# Set mediapipe model     \n",
    "# NEW LOOP\n",
    "# Loop through actions\n",
    "for action in actions:\n",
    "    print(f\"next word {action} after 5 seconds...\")\n",
    "    cv2.waitKey(5000)\n",
    "    \n",
    "    # Loop through sequences aka videos\n",
    "    for sequence in range(start_folder, start_folder+no_sequences):\n",
    "        print(sequence)\n",
    "        # Loop through video length aka sequence length\n",
    "        for frame_num in range(sequence_length):\n",
    "            \n",
    "\n",
    "            # Read feed\n",
    "            ret, frame = cap.read()\n",
    "\n",
    "            # Make detections\n",
    "            image, results = mediapipe_detection(frame, hands)\n",
    "            \n",
    "\n",
    "            # Draw landmarks\n",
    "            draw_styled_landmarks(image, results)\n",
    "            \n",
    "            # NEW Apply wait logic\n",
    "            if frame_num == 0: \n",
    "                cv2.putText(image, 'STARTING COLLECTION', (120,200), \n",
    "                            cv2.FONT_HERSHEY_SIMPLEX, 1, (0,255, 0), 4, cv2.LINE_AA)\n",
    "                cv2.putText(image, 'Collecting frames for {} Video Number {}'.format(action, sequence), (15,12), \n",
    "                            cv2.FONT_HERSHEY_SIMPLEX, 0.5, (0, 0, 255), 1, cv2.LINE_AA)\n",
    "                # Show to screen\n",
    "                cv2.imshow('OpenCV Feed', image)\n",
    "                cv2.waitKey(2000)\n",
    "            else: \n",
    "                cv2.putText(image, 'Collecting frames for {} Video Number {}'.format(action, sequence), (15,12), \n",
    "                            cv2.FONT_HERSHEY_SIMPLEX, 0.5, (0, 0, 255), 1, cv2.LINE_AA)\n",
    "                # Show to screen\n",
    "                cv2.imshow('OpenCV Feed', image)\n",
    "            \n",
    "            # NEW Export keypoints\n",
    "            flipped_img = cv2.flip(frame, 1)\n",
    "            flipped_img, flipped_results = mediapipe_detection(flipped_img, hands)\n",
    "            \n",
    "            keypoints = extract_keypoints(results)\n",
    "            flipped_keypoints = extract_keypoints(flipped_results)\n",
    "            \n",
    "            npy_path = os.path.join(DATA_PATH, action, str(sequence), str(frame_num + 1))\n",
    "            npy_path_flipped = os.path.join(DATA_PATH, action, str(sequence + 150), str(frame_num + 1))\n",
    "            \n",
    "            img_path = os.path.join(DATA_PATH_IMAGES, action, str(sequence), str(frame_num + 1) + '.jpg')\n",
    "            img_path_flipped = os.path.join(DATA_PATH_IMAGES, action, str(sequence + 150), str(frame_num + 1) + '.jpg')\n",
    "            \n",
    "            \n",
    "            np.save(npy_path, keypoints)\n",
    "            np.save(npy_path_flipped, flipped_keypoints)\n",
    "            cv2.imwrite(img_path, frame)\n",
    "            cv2.imwrite(img_path_flipped, flipped_img)\n",
    "\n",
    "            # Break gracefully\n",
    "            if cv2.waitKey(10) & 0xFF == ord('q'):\n",
    "                break\n",
    "                \n",
    "cap.release()\n",
    "cv2.destroyAllWindows()"
   ]
  },
  {
   "cell_type": "code",
   "execution_count": 16,
   "metadata": {},
   "outputs": [
    {
     "data": {
      "text/plain": [
       "array([0.16838574, 0.14938569, 0.0906648 , 0.11687475, 0.05338949,\n",
       "       0.06938493, 0.03025353, 0.03458309, 0.        , 0.00661373,\n",
       "       0.14407444, 0.01885056, 0.06256139, 0.        , 0.04435378,\n",
       "       0.03188556, 0.05630559, 0.05202192, 0.18100423, 0.0269385 ,\n",
       "       0.07376504, 0.02044183, 0.06548613, 0.05597949, 0.0879873 ,\n",
       "       0.06913716, 0.20398039, 0.04388231, 0.09296554, 0.05146927,\n",
       "       0.09047967, 0.08227056, 0.11777502, 0.0873853 , 0.21108949,\n",
       "       0.06628579, 0.12103665, 0.07664847, 0.11380488, 0.09656823,\n",
       "       0.13622522, 0.09860635, 0.00740171, 0.15155679, 0.08178645,\n",
       "       0.12975013, 0.11264614, 0.0933305 , 0.14684511, 0.06676477,\n",
       "       0.17905418, 0.04190373, 0.03451622, 0.0404042 , 0.08749286,\n",
       "       0.        , 0.1485594 , 0.01061481, 0.17609643, 0.03016752,\n",
       "       0.00679768, 0.04451931, 0.10502837, 0.01054168, 0.16083377,\n",
       "       0.03921783, 0.1651727 , 0.06133479, 0.        , 0.05946243,\n",
       "       0.10486872, 0.03588212, 0.14552515, 0.06937695, 0.13366205,\n",
       "       0.09055007, 0.00628849, 0.07903457, 0.10321776, 0.07269597,\n",
       "       0.12546844, 0.09351528, 0.10725721, 0.10694361])"
      ]
     },
     "execution_count": 16,
     "metadata": {},
     "output_type": "execute_result"
    }
   ],
   "source": [
    "frame = np.load(\"C:/Users/Mousa/Desktop/created_data/10_day10_mousa/BB/31/5.npy\")\n",
    "frame"
   ]
  },
  {
   "cell_type": "code",
   "execution_count": null,
   "metadata": {},
   "outputs": [],
   "source": []
  }
 ],
 "metadata": {
  "kernelspec": {
   "display_name": "Python 3 (ipykernel)",
   "language": "python",
   "name": "python3"
  },
  "language_info": {
   "codemirror_mode": {
    "name": "ipython",
    "version": 3
   },
   "file_extension": ".py",
   "mimetype": "text/x-python",
   "name": "python",
   "nbconvert_exporter": "python",
   "pygments_lexer": "ipython3",
   "version": "3.11.7"
  }
 },
 "nbformat": 4,
 "nbformat_minor": 2
}
